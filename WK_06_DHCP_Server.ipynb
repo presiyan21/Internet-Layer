{
 "cells": [
  {
   "cell_type": "code",
   "execution_count": null,
   "metadata": {},
   "outputs": [
    {
     "name": "stdout",
     "output_type": "stream",
     "text": [
      "DHCP Server is running...\n",
      "Client connected: ('127.0.0.1', 55474)\n",
      "\n",
      "[SERVER] Received DHCPDISCOVER\n",
      "[SERVER] Sent DHCPOFFER with IP 192.168.1.100\n",
      "Client connected: ('127.0.0.1', 55475)\n",
      "\n",
      "[SERVER] Received DHCPREQUEST\n",
      "[SERVER] Assigned 192.168.1.100 to AA:BB:CC:DD:EE:FF\n"
     ]
    }
   ],
   "source": [
    "# Server\n",
    "import socket\n",
    "import json\n",
    "\n",
    "# DHCP Server Configuration\n",
    "server_ip_pool = [\"192.168.1.100\", \"192.168.1.101\", \"192.168.1.102\"]\n",
    "leases = {}\n",
    "\n",
    "# Start TCP Server to handle DHCP requests\n",
    "server_socket = socket.socket(socket.AF_INET, socket.SOCK_STREAM)\n",
    "server_socket.bind((\"localhost\", 65432))\n",
    "server_socket.listen(5) # Allow up to 5 simultaneous connections\n",
    "print(\"DHCP Server is running...\")\n",
    "\n",
    "while True:\n",
    "    client_socket, client_address = server_socket.accept()\n",
    "    print(f\"Client connected: {client_address}\")\n",
    "\n",
    "    # Receive and decode message from client\n",
    "    data = client_socket.recv(1024).decode()\n",
    "    message = json.loads(data)\n",
    "\n",
    "    if message[\"type\"] == \"DISCOVER\":\n",
    "        print(\"\\n[SERVER] Received DHCPDISCOVER\")\n",
    "\n",
    "        # Check if IPs are available\n",
    "        if server_ip_pool:\n",
    "            offered_ip = server_ip_pool.pop(0) # Assign the first available IP\n",
    "            response = json.dumps({\"type\": \"OFFER\", \"ip\": offered_ip})\n",
    "            client_socket.sendall(response.encode())\n",
    "            print(f\"[SERVER] Sent DHCPOFFER with IP {offered_ip}\")\n",
    "        else:\n",
    "            client_socket.sendall(json.dumps({\"type\": \"NACK\"}).encode()) # No IPs available\n",
    "            print(\"[SERVER] No IP available!\")\n",
    "\n",
    "    elif message[\"type\"] == \"REQUEST\":\n",
    "        print(\"\\n[SERVER] Received DHCPREQUEST\")\n",
    "        requested_ip = message[\"ip\"]\n",
    "        leases[message[\"mac\"]] = requested_ip  # Store the assigned IP for the MAC address\n",
    "        response = json.dumps({\"type\": \"ACK\", \"ip\": requested_ip})\n",
    "        client_socket.sendall(response.encode())\n",
    "        print(f\"[SERVER] Assigned {requested_ip} to {message['mac']}\")\n",
    "    \n",
    "    client_socket.close()  # Close connection after response\n"
   ]
  }
 ],
 "metadata": {
  "kernelspec": {
   "display_name": "base",
   "language": "python",
   "name": "python3"
  },
  "language_info": {
   "codemirror_mode": {
    "name": "ipython",
    "version": 3
   },
   "file_extension": ".py",
   "mimetype": "text/x-python",
   "name": "python",
   "nbconvert_exporter": "python",
   "pygments_lexer": "ipython3",
   "version": "3.12.4"
  }
 },
 "nbformat": 4,
 "nbformat_minor": 2
}
