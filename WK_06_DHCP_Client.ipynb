{
 "cells": [
  {
   "cell_type": "code",
   "execution_count": null,
   "metadata": {},
   "outputs": [
    {
     "name": "stdout",
     "output_type": "stream",
     "text": [
      "[CLIENT] Sent DHCPDISCOVER\n",
      "[CLIENT] Received DHCPOFFER with IP 192.168.1.100\n",
      "[CLIENT] Sent DHCPREQUEST\n",
      "[CLIENT] Received DHCPACK. Assigned IP: 192.168.1.100\n"
     ]
    }
   ],
   "source": [
    "# Client\n",
    "import socket\n",
    "import json\n",
    "\n",
    "# Client Configuration\n",
    "client_mac = \"AA:BB:CC:DD:EE:FF\"\n",
    "\n",
    "# Connect to DHCP Server\n",
    "client_socket = socket.socket(socket.AF_INET, socket.SOCK_STREAM)\n",
    "client_socket.connect((\"localhost\", 65432))\n",
    "\n",
    "# Send DHCPDISCOVER\n",
    "discover_message = json.dumps({\"type\": \"DISCOVER\", \"mac\": client_mac})\n",
    "client_socket.sendall(discover_message.encode())\n",
    "print(\"[CLIENT] Sent DHCPDISCOVER\")\n",
    "\n",
    "# Receive DHCPOFFER\n",
    "offer_data = json.loads(client_socket.recv(1024).decode())\n",
    "if offer_data[\"type\"] == \"OFFER\":\n",
    "    offered_ip = offer_data[\"ip\"]\n",
    "    print(f\"[CLIENT] Received DHCPOFFER with IP {offered_ip}\")\n",
    "\n",
    "    # Send DHCPREQUEST\n",
    "    request_message = json.dumps({\"type\": \"REQUEST\", \"mac\": client_mac, \"ip\": offered_ip})\n",
    "    client_socket.close()\n",
    "    client_socket = socket.socket(socket.AF_INET, socket.SOCK_STREAM)\n",
    "    client_socket.connect((\"localhost\", 65432))\n",
    "    client_socket.sendall(request_message.encode())\n",
    "    print(\"[CLIENT] Sent DHCPREQUEST\")\n",
    "\n",
    "    # Receive DHCPACK\n",
    "    ack_data = json.loads(client_socket.recv(1024).decode())\n",
    "    if ack_data[\"type\"] == \"ACK\":\n",
    "        assigned_ip = ack_data[\"ip\"]\n",
    "        print(f\"[CLIENT] Received DHCPACK. Assigned IP: {assigned_ip}\")\n",
    "\n",
    "client_socket.close()\n"
   ]
  }
 ],
 "metadata": {
  "kernelspec": {
   "display_name": "base",
   "language": "python",
   "name": "python3"
  },
  "language_info": {
   "codemirror_mode": {
    "name": "ipython",
    "version": 3
   },
   "file_extension": ".py",
   "mimetype": "text/x-python",
   "name": "python",
   "nbconvert_exporter": "python",
   "pygments_lexer": "ipython3",
   "version": "3.12.4"
  }
 },
 "nbformat": 4,
 "nbformat_minor": 2
}
